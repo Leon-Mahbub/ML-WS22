{
 "cells": [
  {
   "cell_type": "markdown",
   "id": "imported-rover",
   "metadata": {},
   "source": [
    "# ML-WS22 Standalone Project with FFT data\n"
   ]
  },
  {
   "cell_type": "markdown",
   "id": "unnecessary-testimony",
   "metadata": {},
   "source": [
    "# Import libraries"
   ]
  },
  {
   "cell_type": "code",
   "execution_count": 1,
   "id": "42c67b55",
   "metadata": {},
   "outputs": [
    {
     "data": {
      "text/plain": [
       "'F:\\\\ML_FIUS_Sonar_Sensor_Project'"
      ]
     },
     "execution_count": 1,
     "metadata": {},
     "output_type": "execute_result"
    }
   ],
   "source": [
    "import os\n",
    "import pathlib\n",
    "import pandas as pd\n",
    "import glob\n",
    "from collections import Counter\n",
    "import matplotlib.pyplot as plt\n",
    "import seaborn as sn\n",
    "import numpy as np\n",
    "from sklearn.svm import SVC\n",
    "from sklearn import metrics\n",
    "from sklearn.metrics import multilabel_confusion_matrix\n",
    "from sklearn.model_selection import train_test_split\n",
    "from sklearn.preprocessing import StandardScaler\n",
    "from sklearn.neighbors import KNeighborsClassifier\n",
    "from sklearn.ensemble import RandomForestClassifier\n",
    "\n",
    "os.path.abspath(os.getcwd())"
   ]
  },
  {
   "cell_type": "markdown",
   "id": "e1be1ad0",
   "metadata": {},
   "source": [
    "# Convert data file to Excel"
   ]
  },
  {
   "cell_type": "code",
   "execution_count": 2,
   "id": "3bfe5a7e",
   "metadata": {},
   "outputs": [],
   "source": [
    "# Text file data directories\n",
    "human_data = \"F:\\ML_FIUS_Sonar_Sensor_Project\\Data_fft\\Human_FFT\"\n",
    "emptyseat_data = \"F:\\ML_FIUS_Sonar_Sensor_Project\\Data_fft\\Emptyseat_FFT\"\n",
    "\n",
    "# Excel files saving directoriey\n",
    "output_path = \"F:\\ML_FIUS_Sonar_Sensor_Project\\Data_fft\\Output_FFT\"\n",
    "\n",
    "#For Human Data\n",
    "for file in os.listdir(human_data):\n",
    "    if file.endswith('.txt'):\n",
    "        # Take all human text file into dataframe dropping header row.  \n",
    "        df = pd.read_csv(os.path.join(human_data, file), delimiter='\\t', skiprows=1)\n",
    "         # Save excel file in the output directory tag human in the beginning\n",
    "        output_file = os.path.join(output_path, 'human_' + os.path.splitext(file)[0] + '.xlsx')\n",
    "        df.to_excel(output_file, header=False, index=False)\n",
    "\n",
    "#For empty Seat Data   \n",
    "for file in os.listdir(emptyseat_data):\n",
    "    if file.endswith('.txt'):\n",
    "        # Take all empty text file into dataframe dropping header row.\n",
    "        df = pd.read_csv(os.path.join(emptyseat_data, file), delimiter='\\t', skiprows=1)\n",
    "        # Save excel file in the output directory with tag emptyseat in the beginning\n",
    "        output_file = os.path.join(output_path, 'emptyseat_' + os.path.splitext(file)[0] + '.xlsx')\n",
    "        df.to_excel(output_file, header=False, index=False)\n",
    "\n"
   ]
  },
  {
   "cell_type": "markdown",
   "id": "9cc6c99a",
   "metadata": {},
   "source": [
    "# Marge Data"
   ]
  },
  {
   "cell_type": "code",
   "execution_count": 17,
   "id": "6d3cadb1",
   "metadata": {},
   "outputs": [],
   "source": [
    "# Directory where your files are located\n",
    "#output_path = \"F:\\ML_FIUS_Sonar_Sensor_Project\\Output_FFT\"\n",
    "\n",
    "# take to empty data frame\n",
    "human_dfs = []\n",
    "emptyseat_dfs = []\n",
    "\n",
    "\n",
    "for filename in os.listdir(output_path):\n",
    "    if filename.startswith('human_') and filename.endswith('.xlsx'):\n",
    "        # Read the Excel file into a dataframe\n",
    "        human_df = pd.read_excel(os.path.join(output_path, filename), header=None)\n",
    "       #drop the column value with '0'\n",
    "        human_df = human_df.loc[:, (human_df != 0).any(axis=0)]\n",
    "        # Label human data with value 1\n",
    "        human_df.insert(0, 'new_column', 1)\n",
    "        human_dfs.append(human_df)\n",
    "        \n",
    "    elif filename.startswith('emptyseat_') and filename.endswith('.xlsx'):\n",
    "        # Read the Excel file into a dataframe\n",
    "        emptyseat_df = pd.read_excel(os.path.join(output_path, filename), header=None)\n",
    "        #drop the column value with '0'\n",
    "        emptyseat_df = emptyseat_df.loc[:, (emptyseat_df != 0).any(axis=0)]\n",
    "        # Label human data with value 0\n",
    "        emptyseat_df.insert(0, 'new_column', 0)\n",
    "        emptyseat_dfs.append(emptyseat_df)\n",
    "\n",
    "# marge all human dataframes into a single dataframe\n",
    "human_merged = pd.concat(human_dfs, ignore_index=True)\n",
    "# marge all emptyseat dataframes into a single dataframe\n",
    "emptyseat_merged = pd.concat(emptyseat_dfs, ignore_index=True)\n",
    "\n",
    "# Marge both data frame into one dataframe\n",
    "merged = pd.concat([human_merged, emptyseat_merged], ignore_index=True)\n",
    "#Drop unnecessary column \n",
    "merged = merged.drop(merged.columns[1:11], axis=1)\n",
    "# save the dataframe to a  Excel file\n",
    "merged.to_excel(os.path.join(output_path, 'fft_merged.xlsx'), header=False, index=False)"
   ]
  },
  {
   "cell_type": "code",
   "execution_count": 18,
   "id": "4b0aba77",
   "metadata": {},
   "outputs": [
    {
     "data": {
      "text/plain": [
       "Counter({1: 34741, 0: 10829})"
      ]
     },
     "execution_count": 18,
     "metadata": {},
     "output_type": "execute_result"
    }
   ],
   "source": [
    "#Count labeled data\n",
    "os.chdir(output_path)\n",
    "data = pd.read_excel(\"fft_merged.xlsx\")\n",
    "Counter(data.iloc[:,0])"
   ]
  },
  {
   "cell_type": "code",
   "execution_count": 19,
   "id": "d0e4b84d",
   "metadata": {},
   "outputs": [
    {
     "data": {
      "text/plain": [
       "1    1\n",
       "2    1\n",
       "3    1\n",
       "4    1\n",
       "5    1\n",
       "Name: 1, dtype: int64"
      ]
     },
     "execution_count": 19,
     "metadata": {},
     "output_type": "execute_result"
    }
   ],
   "source": [
    "X = data.iloc[1:,1:]\n",
    "Y = data.iloc[1:,0]\n",
    "X.head()\n",
    "Y.head()"
   ]
  },
  {
   "cell_type": "markdown",
   "id": "b0d4c734",
   "metadata": {},
   "source": [
    "## Split Data for training and Testing"
   ]
  },
  {
   "cell_type": "code",
   "execution_count": 20,
   "id": "bf8f8b30",
   "metadata": {
    "scrolled": true
   },
   "outputs": [
    {
     "name": "stdout",
     "output_type": "stream",
     "text": [
      "(45569, 85)\n"
     ]
    },
    {
     "name": "stderr",
     "output_type": "stream",
     "text": [
      "C:\\Users\\Mahbub\\anaconda3\\lib\\site-packages\\sklearn\\utils\\validation.py:1688: FutureWarning: Feature names only support names that are all strings. Got feature names with dtypes: ['int', 'str']. An error will be raised in 1.2.\n",
      "  warnings.warn(\n",
      "C:\\Users\\Mahbub\\anaconda3\\lib\\site-packages\\sklearn\\utils\\validation.py:1688: FutureWarning: Feature names only support names that are all strings. Got feature names with dtypes: ['int', 'str']. An error will be raised in 1.2.\n",
      "  warnings.warn(\n",
      "C:\\Users\\Mahbub\\anaconda3\\lib\\site-packages\\sklearn\\utils\\validation.py:1688: FutureWarning: Feature names only support names that are all strings. Got feature names with dtypes: ['int', 'str']. An error will be raised in 1.2.\n",
      "  warnings.warn(\n"
     ]
    },
    {
     "data": {
      "text/html": [
       "<div>\n",
       "<style scoped>\n",
       "    .dataframe tbody tr th:only-of-type {\n",
       "        vertical-align: middle;\n",
       "    }\n",
       "\n",
       "    .dataframe tbody tr th {\n",
       "        vertical-align: top;\n",
       "    }\n",
       "\n",
       "    .dataframe thead th {\n",
       "        text-align: right;\n",
       "    }\n",
       "</style>\n",
       "<table border=\"1\" class=\"dataframe\">\n",
       "  <thead>\n",
       "    <tr style=\"text-align: right;\">\n",
       "      <th></th>\n",
       "      <th>0</th>\n",
       "      <th>1</th>\n",
       "      <th>2</th>\n",
       "      <th>3</th>\n",
       "      <th>4</th>\n",
       "      <th>5</th>\n",
       "      <th>6</th>\n",
       "      <th>7</th>\n",
       "      <th>8</th>\n",
       "      <th>9</th>\n",
       "      <th>...</th>\n",
       "      <th>75</th>\n",
       "      <th>76</th>\n",
       "      <th>77</th>\n",
       "      <th>78</th>\n",
       "      <th>79</th>\n",
       "      <th>80</th>\n",
       "      <th>81</th>\n",
       "      <th>82</th>\n",
       "      <th>83</th>\n",
       "      <th>84</th>\n",
       "    </tr>\n",
       "  </thead>\n",
       "  <tbody>\n",
       "    <tr>\n",
       "      <th>0</th>\n",
       "      <td>1.401784</td>\n",
       "      <td>1.321174</td>\n",
       "      <td>1.210773</td>\n",
       "      <td>1.005367</td>\n",
       "      <td>1.182250</td>\n",
       "      <td>1.120423</td>\n",
       "      <td>1.064314</td>\n",
       "      <td>0.671512</td>\n",
       "      <td>0.640060</td>\n",
       "      <td>0.365530</td>\n",
       "      <td>...</td>\n",
       "      <td>0.969863</td>\n",
       "      <td>0.864493</td>\n",
       "      <td>1.035611</td>\n",
       "      <td>1.003044</td>\n",
       "      <td>0.966265</td>\n",
       "      <td>0.924721</td>\n",
       "      <td>0.858130</td>\n",
       "      <td>0.874512</td>\n",
       "      <td>0.749022</td>\n",
       "      <td>0.525981</td>\n",
       "    </tr>\n",
       "    <tr>\n",
       "      <th>1</th>\n",
       "      <td>-0.451619</td>\n",
       "      <td>-0.706488</td>\n",
       "      <td>-0.479068</td>\n",
       "      <td>-0.562735</td>\n",
       "      <td>-0.620538</td>\n",
       "      <td>-0.510838</td>\n",
       "      <td>-0.720089</td>\n",
       "      <td>-0.452499</td>\n",
       "      <td>-0.653600</td>\n",
       "      <td>-0.480896</td>\n",
       "      <td>...</td>\n",
       "      <td>-0.453863</td>\n",
       "      <td>-0.631267</td>\n",
       "      <td>-0.419064</td>\n",
       "      <td>-0.527255</td>\n",
       "      <td>-0.542966</td>\n",
       "      <td>-0.496477</td>\n",
       "      <td>-0.659218</td>\n",
       "      <td>-0.552889</td>\n",
       "      <td>-0.641911</td>\n",
       "      <td>-0.614522</td>\n",
       "    </tr>\n",
       "    <tr>\n",
       "      <th>2</th>\n",
       "      <td>4.596466</td>\n",
       "      <td>4.797168</td>\n",
       "      <td>4.988541</td>\n",
       "      <td>5.154807</td>\n",
       "      <td>5.372516</td>\n",
       "      <td>5.416613</td>\n",
       "      <td>5.513100</td>\n",
       "      <td>5.542228</td>\n",
       "      <td>5.519944</td>\n",
       "      <td>5.468737</td>\n",
       "      <td>...</td>\n",
       "      <td>3.506387</td>\n",
       "      <td>3.656578</td>\n",
       "      <td>3.819558</td>\n",
       "      <td>3.937520</td>\n",
       "      <td>4.001780</td>\n",
       "      <td>4.013911</td>\n",
       "      <td>4.040226</td>\n",
       "      <td>3.823901</td>\n",
       "      <td>3.802078</td>\n",
       "      <td>3.558683</td>\n",
       "    </tr>\n",
       "    <tr>\n",
       "      <th>3</th>\n",
       "      <td>-0.419103</td>\n",
       "      <td>-0.682349</td>\n",
       "      <td>-0.470943</td>\n",
       "      <td>-0.627068</td>\n",
       "      <td>-0.482487</td>\n",
       "      <td>-0.446233</td>\n",
       "      <td>-0.679349</td>\n",
       "      <td>-0.460645</td>\n",
       "      <td>-0.620849</td>\n",
       "      <td>-0.464460</td>\n",
       "      <td>...</td>\n",
       "      <td>-0.658422</td>\n",
       "      <td>-0.290566</td>\n",
       "      <td>-0.594628</td>\n",
       "      <td>-0.594521</td>\n",
       "      <td>-0.389485</td>\n",
       "      <td>-0.590089</td>\n",
       "      <td>-0.581183</td>\n",
       "      <td>-0.621679</td>\n",
       "      <td>-0.466951</td>\n",
       "      <td>-0.631802</td>\n",
       "    </tr>\n",
       "    <tr>\n",
       "      <th>4</th>\n",
       "      <td>1.588750</td>\n",
       "      <td>1.546470</td>\n",
       "      <td>1.365133</td>\n",
       "      <td>1.174239</td>\n",
       "      <td>1.247216</td>\n",
       "      <td>1.185027</td>\n",
       "      <td>0.942095</td>\n",
       "      <td>0.679657</td>\n",
       "      <td>0.738313</td>\n",
       "      <td>0.661368</td>\n",
       "      <td>...</td>\n",
       "      <td>0.798034</td>\n",
       "      <td>0.656749</td>\n",
       "      <td>0.726283</td>\n",
       "      <td>0.397651</td>\n",
       "      <td>0.156226</td>\n",
       "      <td>0.048174</td>\n",
       "      <td>-0.008926</td>\n",
       "      <td>-0.243332</td>\n",
       "      <td>-0.536935</td>\n",
       "      <td>-0.666363</td>\n",
       "    </tr>\n",
       "  </tbody>\n",
       "</table>\n",
       "<p>5 rows × 85 columns</p>\n",
       "</div>"
      ],
      "text/plain": [
       "         0         1         2         3         4         5         6   \\\n",
       "0  1.401784  1.321174  1.210773  1.005367  1.182250  1.120423  1.064314   \n",
       "1 -0.451619 -0.706488 -0.479068 -0.562735 -0.620538 -0.510838 -0.720089   \n",
       "2  4.596466  4.797168  4.988541  5.154807  5.372516  5.416613  5.513100   \n",
       "3 -0.419103 -0.682349 -0.470943 -0.627068 -0.482487 -0.446233 -0.679349   \n",
       "4  1.588750  1.546470  1.365133  1.174239  1.247216  1.185027  0.942095   \n",
       "\n",
       "         7         8         9   ...        75        76        77        78  \\\n",
       "0  0.671512  0.640060  0.365530  ...  0.969863  0.864493  1.035611  1.003044   \n",
       "1 -0.452499 -0.653600 -0.480896  ... -0.453863 -0.631267 -0.419064 -0.527255   \n",
       "2  5.542228  5.519944  5.468737  ...  3.506387  3.656578  3.819558  3.937520   \n",
       "3 -0.460645 -0.620849 -0.464460  ... -0.658422 -0.290566 -0.594628 -0.594521   \n",
       "4  0.679657  0.738313  0.661368  ...  0.798034  0.656749  0.726283  0.397651   \n",
       "\n",
       "         79        80        81        82        83        84  \n",
       "0  0.966265  0.924721  0.858130  0.874512  0.749022  0.525981  \n",
       "1 -0.542966 -0.496477 -0.659218 -0.552889 -0.641911 -0.614522  \n",
       "2  4.001780  4.013911  4.040226  3.823901  3.802078  3.558683  \n",
       "3 -0.389485 -0.590089 -0.581183 -0.621679 -0.466951 -0.631802  \n",
       "4  0.156226  0.048174 -0.008926 -0.243332 -0.536935 -0.666363  \n",
       "\n",
       "[5 rows x 85 columns]"
      ]
     },
     "execution_count": 20,
     "metadata": {},
     "output_type": "execute_result"
    }
   ],
   "source": [
    "input_var = X\n",
    "print(input_var.shape)\n",
    "X_train, X_test, y_train, y_test = train_test_split(input_var, Y, test_size=0.3,random_state=101)\n",
    "sc = StandardScaler()\n",
    "X_train = sc.fit_transform(X_train)\n",
    "X_test = sc.transform(X_test)\n",
    "X_train = pd.DataFrame(X_train)\n",
    "X_test = pd.DataFrame(X_test)\n",
    "X_train.head()"
   ]
  },
  {
   "cell_type": "markdown",
   "id": "8cd72850",
   "metadata": {},
   "source": [
    "# Train Support vector machines (SVMs) model to identify human & empty_seat"
   ]
  },
  {
   "cell_type": "code",
   "execution_count": 22,
   "id": "31564e94",
   "metadata": {},
   "outputs": [
    {
     "name": "stdout",
     "output_type": "stream",
     "text": [
      "Accuracy: 0.9839075415112282\n"
     ]
    }
   ],
   "source": [
    "svm = SVC(C=0.1, kernel='rbf', gamma='scale', random_state=101)\n",
    "svm.fit(X_train, y_train)\n",
    "y_pred = svm.predict(X_test)\n",
    "print(\"Accuracy:\", metrics.accuracy_score(y_test, y_pred))"
   ]
  },
  {
   "cell_type": "code",
   "execution_count": 23,
   "id": "038097f5",
   "metadata": {},
   "outputs": [
    {
     "name": "stdout",
     "output_type": "stream",
     "text": [
      "[[10344    41]\n",
      " [  179  3107]]\n",
      "              precision    recall  f1-score   support\n",
      "\n",
      "           0       0.99      0.95      0.97      3286\n",
      "           1       0.98      1.00      0.99     10385\n",
      "\n",
      "    accuracy                           0.98     13671\n",
      "   macro avg       0.98      0.97      0.98     13671\n",
      "weighted avg       0.98      0.98      0.98     13671\n",
      "\n",
      "3107 179 41 10344\n"
     ]
    },
    {
     "data": {
      "text/plain": [
       "array([[10344,    41],\n",
       "       [  179,  3107]], dtype=int64)"
      ]
     },
     "execution_count": 23,
     "metadata": {},
     "output_type": "execute_result"
    },
    {
     "data": {
      "image/png": "[encoded data removed]",
      "text/plain": [
       "<Figure size 1200x1000 with 2 Axes>"
      ]
     },
     "metadata": {},
     "output_type": "display_data"
    }
   ],
   "source": [
    "#Generate Confution matrix & calculate other values\n",
    "def confusion_matrix_binary_svm(y_test, y_pred):\n",
    "    cnf_matrix = metrics.confusion_matrix(y_test, y_pred, labels=[1,0]) \n",
    "    print(cnf_matrix)\n",
    "    report = metrics.classification_report(y_test, y_pred)\n",
    "    print(report)\n",
    "    TN, FP, FN, TP = metrics.confusion_matrix(y_test, y_pred).ravel()\n",
    "    print(TN, FP, FN, TP)\n",
    "    df_cm = pd.DataFrame(cnf_matrix, columns=np.unique(y_test), index=np.unique(y_test))\n",
    "    df_cm.index.name = 'Actual'\n",
    "    df_cm.columns.name = 'Predicted'\n",
    "    plt.figure(figsize=(12,10))\n",
    "    sn.set(font_scale=1.4) #for label size\n",
    "    sn.heatmap(df_cm, cmap=\"Blues\", annot=True, annot_kws={\"size\": 16}, fmt='g') # font size\n",
    "    return cnf_matrix\n",
    "\n",
    "y_pred_svm = svm.predict(X_test)\n",
    "confusion_matrix_binary_svm(y_test, y_pred_svm)\n"
   ]
  },
  {
   "cell_type": "markdown",
   "id": "a053b6c8",
   "metadata": {},
   "source": [
    "# Train Random Forest classifier"
   ]
  },
  {
   "cell_type": "code",
   "execution_count": 24,
   "id": "9704ec08",
   "metadata": {},
   "outputs": [
    {
     "name": "stdout",
     "output_type": "stream",
     "text": [
      "Accuracy: 0.934606100504718\n"
     ]
    }
   ],
   "source": [
    "rfc = RandomForestClassifier(n_estimators=100, max_depth=5, min_samples_split=5, max_features='sqrt', random_state=0)\n",
    "rfc.fit(X_train, y_train)\n",
    "y_pred = rfc.predict(X_test)\n",
    "print(\"Accuracy:\",metrics.accuracy_score(y_test, y_pred))\n"
   ]
  },
  {
   "cell_type": "code",
   "execution_count": 25,
   "id": "dee94191",
   "metadata": {},
   "outputs": [
    {
     "name": "stdout",
     "output_type": "stream",
     "text": [
      "[[10358    27]\n",
      " [  867  2419]]\n",
      "              precision    recall  f1-score   support\n",
      "\n",
      "           0       0.99      0.74      0.84      3286\n",
      "           1       0.92      1.00      0.96     10385\n",
      "\n",
      "    accuracy                           0.93     13671\n",
      "   macro avg       0.96      0.87      0.90     13671\n",
      "weighted avg       0.94      0.93      0.93     13671\n",
      "\n",
      "2419 867 27 10358\n"
     ]
    },
    {
     "data": {
      "text/plain": [
       "array([[10358,    27],\n",
       "       [  867,  2419]], dtype=int64)"
      ]
     },
     "execution_count": 25,
     "metadata": {},
     "output_type": "execute_result"
    },
    {
     "data": {
      "image/png": "[encoded data removed]",
      "text/plain": [
       "<Figure size 1200x1000 with 2 Axes>"
      ]
     },
     "metadata": {},
     "output_type": "display_data"
    }
   ],
   "source": [
    "#Generate Confution matrix & calculate other values\n",
    "def confusion_matrix_binary_rfc(y_test, y_pred):\n",
    "    cnf_matrix = metrics.confusion_matrix(y_test, y_pred, labels=[1,0]) \n",
    "    print(cnf_matrix)\n",
    "    report = metrics.classification_report(y_test, y_pred)\n",
    "    print(report)\n",
    "    TN, FP, FN, TP = metrics.confusion_matrix(y_test, y_pred).ravel()\n",
    "    print(TN, FP, FN, TP)\n",
    "    df_cm = pd.DataFrame(cnf_matrix, columns=np.unique(y_test), index=np.unique(y_test))\n",
    "    df_cm.index.name = 'Actual'\n",
    "    df_cm.columns.name = 'Predicted'\n",
    "    plt.figure(figsize=(12,10))\n",
    "    sn.set(font_scale=1.4) #for label size\n",
    "    sn.heatmap(df_cm, cmap=\"Blues\", annot=True, annot_kws={\"size\": 16}, fmt='g') # font size\n",
    "    return cnf_matrix\n",
    "\n",
    "y_pred_rfc = rfc.predict(X_test)\n",
    "confusion_matrix_binary_rfc(y_test, y_pred)"
   ]
  },
  {
   "cell_type": "markdown",
   "id": "0189498c",
   "metadata": {},
   "source": [
    "# Train K-Nearest Neighbors classifier"
   ]
  },
  {
   "cell_type": "code",
   "execution_count": 26,
   "id": "b5437757",
   "metadata": {},
   "outputs": [
    {
     "name": "stderr",
     "output_type": "stream",
     "text": [
      "C:\\Users\\Mahbub\\anaconda3\\lib\\site-packages\\sklearn\\neighbors\\_classification.py:228: FutureWarning: Unlike other reduction functions (e.g. `skew`, `kurtosis`), the default behavior of `mode` typically preserves the axis it acts along. In SciPy 1.11.0, this behavior will change: the default value of `keepdims` will become False, the `axis` over which the statistic is taken will be eliminated, and the value None will no longer be accepted. Set `keepdims` to True or False to avoid this warning.\n",
      "  mode, _ = stats.mode(_y[neigh_ind, k], axis=1)\n"
     ]
    },
    {
     "name": "stdout",
     "output_type": "stream",
     "text": [
      "Accuracy: 0.9823714432009363\n"
     ]
    }
   ],
   "source": [
    "knn.fit(X_train,y_train)\n",
    "y_pred = knn.predict(X_test)\n",
    "print(\"Accuracy:\",metrics.accuracy_score(y_test, y_pred))"
   ]
  },
  {
   "cell_type": "code",
   "execution_count": 27,
   "id": "f7d0175a",
   "metadata": {},
   "outputs": [
    {
     "name": "stderr",
     "output_type": "stream",
     "text": [
      "C:\\Users\\Mahbub\\anaconda3\\lib\\site-packages\\sklearn\\neighbors\\_classification.py:228: FutureWarning: Unlike other reduction functions (e.g. `skew`, `kurtosis`), the default behavior of `mode` typically preserves the axis it acts along. In SciPy 1.11.0, this behavior will change: the default value of `keepdims` will become False, the `axis` over which the statistic is taken will be eliminated, and the value None will no longer be accepted. Set `keepdims` to True or False to avoid this warning.\n",
      "  mode, _ = stats.mode(_y[neigh_ind, k], axis=1)\n"
     ]
    },
    {
     "name": "stdout",
     "output_type": "stream",
     "text": [
      "[[10146   239]\n",
      " [    2  3284]]\n",
      "              precision    recall  f1-score   support\n",
      "\n",
      "           0       0.93      1.00      0.96      3286\n",
      "           1       1.00      0.98      0.99     10385\n",
      "\n",
      "    accuracy                           0.98     13671\n",
      "   macro avg       0.97      0.99      0.98     13671\n",
      "weighted avg       0.98      0.98      0.98     13671\n",
      "\n",
      "3284 2 239 10146\n"
     ]
    },
    {
     "data": {
      "text/plain": [
       "array([[10146,   239],\n",
       "       [    2,  3284]], dtype=int64)"
      ]
     },
     "execution_count": 27,
     "metadata": {},
     "output_type": "execute_result"
    },
    {
     "data": {
      "image/png": "[encoded data removed]",
      "text/plain": [
       "<Figure size 1200x1000 with 2 Axes>"
      ]
     },
     "metadata": {},
     "output_type": "display_data"
    }
   ],
   "source": [
    "#Generate Confution matrix & calculate other values\n",
    "def confusion_matrix_binary_knn(y_test, y_pred):\n",
    "    cnf_matrix = metrics.confusion_matrix(y_test, y_pred, labels=[1,0]) \n",
    "    print(cnf_matrix)\n",
    "    report = metrics.classification_report(y_test, y_pred)\n",
    "    print(report)\n",
    "    TN, FP, FN, TP = metrics.confusion_matrix(y_test, y_pred).ravel()\n",
    "    print(TN, FP, FN, TP)\n",
    "    df_cm = pd.DataFrame(cnf_matrix, columns=np.unique(y_test), index=np.unique(y_test))\n",
    "    df_cm.index.name = 'Actual'\n",
    "    df_cm.columns.name = 'Predicted'\n",
    "    plt.figure(figsize=(12,10))\n",
    "    sn.set(font_scale=1.4) #for label size\n",
    "    sn.heatmap(df_cm, cmap=\"Blues\", annot=True, annot_kws={\"size\": 16}, fmt='g') # font size\n",
    "    return cnf_matrix\n",
    "\n",
    "y_pred_knn = knn.predict(X_test)\n",
    "confusion_matrix_binary_knn(y_test, y_pred)"
   ]
  },
  {
   "cell_type": "code",
   "execution_count": null,
   "id": "db880f59",
   "metadata": {},
   "outputs": [],
   "source": []
  }
 ],
 "metadata": {
  "kernelspec": {
   "display_name": "Python 3 (ipykernel)",
   "language": "python",
   "name": "python3"
  },
  "language_info": {
   "codemirror_mode": {
    "name": "ipython",
    "version": 3
   },
   "file_extension": ".py",
   "mimetype": "text/x-python",
   "name": "python",
   "nbconvert_exporter": "python",
   "pygments_lexer": "ipython3",
   "version": "3.9.13"
  }
 },
 "nbformat": 4,
 "nbformat_minor": 5
}
