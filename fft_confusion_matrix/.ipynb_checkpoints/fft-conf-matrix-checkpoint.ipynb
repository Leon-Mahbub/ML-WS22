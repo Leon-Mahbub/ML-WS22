{
 "cells": [
  {
   "cell_type": "markdown",
   "id": "imported-rover",
   "metadata": {},
   "source": [
    "# ML-WS22- FFT DATA Confusion Matrix\n"
   ]
  },
  {
   "cell_type": "code",
   "execution_count": 6,
   "id": "df0c1bb0",
   "metadata": {},
   "outputs": [],
   "source": [
    "#Import all libraries\n",
    "import os\n",
    "import glob\n",
    "import pandas as pd\n",
    "import numpy as np\n",
    "import matplotlib.pyplot as plt\n",
    "import seaborn as sn\n",
    "from sklearn.metrics import confusion_matrix"
   ]
  },
  {
   "cell_type": "code",
   "execution_count": 2,
   "id": "56922e0f",
   "metadata": {
    "scrolled": true
   },
   "outputs": [
    {
     "name": "stdout",
     "output_type": "stream",
     "text": [
      "F:\\ML_FIUS_Sonar_Sensor_Project\\fft_confusion_matrix\\Alldata_fft\\fft_E_1st_.txt\n",
      "F:\\ML_FIUS_Sonar_Sensor_Project\\fft_confusion_matrix\\Alldata_fft\\fft_E_1st_Do_.txt\n",
      "F:\\ML_FIUS_Sonar_Sensor_Project\\fft_confusion_matrix\\Alldata_fft\\fft_E_2_1st_.txt\n",
      "F:\\ML_FIUS_Sonar_Sensor_Project\\fft_confusion_matrix\\Alldata_fft\\fft_E_2_1st_Do_.txt\n",
      "F:\\ML_FIUS_Sonar_Sensor_Project\\fft_confusion_matrix\\Alldata_fft\\fft_E_3rd.txt\n"
     ]
    },
    {
     "name": "stderr",
     "output_type": "stream",
     "text": [
      "C:\\Users\\Mahbub\\AppData\\Local\\Temp\\ipykernel_9376\\2061242902.py:29: FutureWarning: The frame.append method is deprecated and will be removed from pandas in a future version. Use pandas.concat instead.\n",
      "  df_final = df_final.append(df)\n",
      "C:\\Users\\Mahbub\\AppData\\Local\\Temp\\ipykernel_9376\\2061242902.py:29: FutureWarning: The frame.append method is deprecated and will be removed from pandas in a future version. Use pandas.concat instead.\n",
      "  df_final = df_final.append(df)\n",
      "C:\\Users\\Mahbub\\AppData\\Local\\Temp\\ipykernel_9376\\2061242902.py:29: FutureWarning: The frame.append method is deprecated and will be removed from pandas in a future version. Use pandas.concat instead.\n",
      "  df_final = df_final.append(df)\n",
      "C:\\Users\\Mahbub\\AppData\\Local\\Temp\\ipykernel_9376\\2061242902.py:29: FutureWarning: The frame.append method is deprecated and will be removed from pandas in a future version. Use pandas.concat instead.\n",
      "  df_final = df_final.append(df)\n"
     ]
    },
    {
     "name": "stdout",
     "output_type": "stream",
     "text": [
      "F:\\ML_FIUS_Sonar_Sensor_Project\\fft_confusion_matrix\\Alldata_fft\\fft_KK_5th_.txt\n",
      "F:\\ML_FIUS_Sonar_Sensor_Project\\fft_confusion_matrix\\Alldata_fft\\fft_KK_5th_Do_.txt\n",
      "F:\\ML_FIUS_Sonar_Sensor_Project\\fft_confusion_matrix\\Alldata_fft\\fft_KK_5th_Do_S_.txt\n",
      "F:\\ML_FIUS_Sonar_Sensor_Project\\fft_confusion_matrix\\Alldata_fft\\fft_KK_5th_S_.txt\n",
      "F:\\ML_FIUS_Sonar_Sensor_Project\\fft_confusion_matrix\\Alldata_fft\\fft_K_2nd_.txt\n",
      "F:\\ML_FIUS_Sonar_Sensor_Project\\fft_confusion_matrix\\Alldata_fft\\fft_K_2nd_Do_.txt\n",
      "F:\\ML_FIUS_Sonar_Sensor_Project\\fft_confusion_matrix\\Alldata_fft\\fft_K_2nd_S_.txt\n",
      "F:\\ML_FIUS_Sonar_Sensor_Project\\fft_confusion_matrix\\Alldata_fft\\fft_K_2nd_S_Do_.txt\n",
      "F:\\ML_FIUS_Sonar_Sensor_Project\\fft_confusion_matrix\\Alldata_fft\\fft_K_4th_.txt\n",
      "F:\\ML_FIUS_Sonar_Sensor_Project\\fft_confusion_matrix\\Alldata_fft\\fft_K_4th_Do_.txt\n",
      "F:\\ML_FIUS_Sonar_Sensor_Project\\fft_confusion_matrix\\Alldata_fft\\fft_K_4th_Do_S.txt\n"
     ]
    },
    {
     "name": "stderr",
     "output_type": "stream",
     "text": [
      "C:\\Users\\Mahbub\\AppData\\Local\\Temp\\ipykernel_9376\\2061242902.py:29: FutureWarning: The frame.append method is deprecated and will be removed from pandas in a future version. Use pandas.concat instead.\n",
      "  df_final = df_final.append(df)\n",
      "C:\\Users\\Mahbub\\AppData\\Local\\Temp\\ipykernel_9376\\2061242902.py:29: FutureWarning: The frame.append method is deprecated and will be removed from pandas in a future version. Use pandas.concat instead.\n",
      "  df_final = df_final.append(df)\n",
      "C:\\Users\\Mahbub\\AppData\\Local\\Temp\\ipykernel_9376\\2061242902.py:29: FutureWarning: The frame.append method is deprecated and will be removed from pandas in a future version. Use pandas.concat instead.\n",
      "  df_final = df_final.append(df)\n",
      "C:\\Users\\Mahbub\\AppData\\Local\\Temp\\ipykernel_9376\\2061242902.py:29: FutureWarning: The frame.append method is deprecated and will be removed from pandas in a future version. Use pandas.concat instead.\n",
      "  df_final = df_final.append(df)\n",
      "C:\\Users\\Mahbub\\AppData\\Local\\Temp\\ipykernel_9376\\2061242902.py:29: FutureWarning: The frame.append method is deprecated and will be removed from pandas in a future version. Use pandas.concat instead.\n",
      "  df_final = df_final.append(df)\n",
      "C:\\Users\\Mahbub\\AppData\\Local\\Temp\\ipykernel_9376\\2061242902.py:29: FutureWarning: The frame.append method is deprecated and will be removed from pandas in a future version. Use pandas.concat instead.\n",
      "  df_final = df_final.append(df)\n",
      "C:\\Users\\Mahbub\\AppData\\Local\\Temp\\ipykernel_9376\\2061242902.py:29: FutureWarning: The frame.append method is deprecated and will be removed from pandas in a future version. Use pandas.concat instead.\n",
      "  df_final = df_final.append(df)\n",
      "C:\\Users\\Mahbub\\AppData\\Local\\Temp\\ipykernel_9376\\2061242902.py:29: FutureWarning: The frame.append method is deprecated and will be removed from pandas in a future version. Use pandas.concat instead.\n",
      "  df_final = df_final.append(df)\n",
      "C:\\Users\\Mahbub\\AppData\\Local\\Temp\\ipykernel_9376\\2061242902.py:29: FutureWarning: The frame.append method is deprecated and will be removed from pandas in a future version. Use pandas.concat instead.\n",
      "  df_final = df_final.append(df)\n",
      "C:\\Users\\Mahbub\\AppData\\Local\\Temp\\ipykernel_9376\\2061242902.py:29: FutureWarning: The frame.append method is deprecated and will be removed from pandas in a future version. Use pandas.concat instead.\n",
      "  df_final = df_final.append(df)\n",
      "C:\\Users\\Mahbub\\AppData\\Local\\Temp\\ipykernel_9376\\2061242902.py:29: FutureWarning: The frame.append method is deprecated and will be removed from pandas in a future version. Use pandas.concat instead.\n",
      "  df_final = df_final.append(df)\n",
      "C:\\Users\\Mahbub\\AppData\\Local\\Temp\\ipykernel_9376\\2061242902.py:29: FutureWarning: The frame.append method is deprecated and will be removed from pandas in a future version. Use pandas.concat instead.\n",
      "  df_final = df_final.append(df)\n"
     ]
    },
    {
     "name": "stdout",
     "output_type": "stream",
     "text": [
      "F:\\ML_FIUS_Sonar_Sensor_Project\\fft_confusion_matrix\\Alldata_fft\\fft_K_4th_S_.txt\n",
      "10077\n"
     ]
    }
   ],
   "source": [
    "sub_folder = 'Alldata_fft'\n",
    "path = 'F:\\\\ML_FIUS_Sonar_Sensor_Project\\\\fft_confusion_matrix\\\\' + sub_folder\n",
    "\n",
    "file_list = glob.glob(path+\"/*.txt\")\n",
    "\n",
    "for i in range(0, len(file_list)):\n",
    "    print(file_list[i])\n",
    "    df = pd.read_csv(file_list[i], delimiter = \"\\t\", header=None, skiprows=1)\n",
    "    df = df.loc[10:, :]\n",
    "    filename = os.path.basename(file_list[i]) \n",
    "    sub_string = filename.split('.')\n",
    "    \n",
    "    df = df[[2]]\n",
    "    \n",
    "    df['predict'] = np.where(df[2] == 1, 'empty', 'human')\n",
    "    \n",
    "    if 'E' in filename or 'e' in filename:\n",
    "        df['actual'] = 'empty'\n",
    "    else:\n",
    "        df['actual'] = 'human'\n",
    "    \n",
    "    df['category'] = sub_string[0]\n",
    "    \n",
    "    # choose three columns to keep for confusion matrix.\n",
    "    df = df[['category', 'predict', 'actual']]\n",
    "    if i == 0:\n",
    "        df_final = df\n",
    "    else:\n",
    "        df_final = df_final.append(df)\n",
    "\n",
    "print(len(df_final))\n",
    "df_final.to_excel('{}.xlsx'.format(sub_folder), index=False)"
   ]
  },
  {
   "cell_type": "code",
   "execution_count": 3,
   "id": "dc1ac070",
   "metadata": {
    "scrolled": true
   },
   "outputs": [
    {
     "name": "stderr",
     "output_type": "stream",
     "text": [
      "C:\\Users\\Mahbub\\AppData\\Local\\Temp\\ipykernel_9376\\2106759332.py:8: FutureWarning: The frame.append method is deprecated and will be removed from pandas in a future version. Use pandas.concat instead.\n",
      "  df_final = df_final.append(df)\n"
     ]
    }
   ],
   "source": [
    "path = 'F:\\\\ML_FIUS_Sonar_Sensor_Project\\\\fft_confusion_matrix\\\\'\n",
    "\n",
    "# add an empty DataFrame with three columns\n",
    "df_final = pd.DataFrame(columns=['category', 'predict', 'actual'])\n",
    "\n",
    "file_list = glob.glob(path+\"/*.xlsx\")\n",
    "for f in file_list:\n",
    "    df = pd.read_excel(f)\n",
    "    df_final = df_final.append(df)\n",
    "# Save the DataFrame \n",
    "df_final.to_csv('fft_data.csv', index=False)"
   ]
  },
  {
   "cell_type": "code",
   "execution_count": 4,
   "id": "1fa74d89",
   "metadata": {
    "scrolled": false
   },
   "outputs": [
    {
     "data": {
      "image/png": "[encoded data removed]",
      "text/plain": [
       "<Figure size 1500x500 with 2 Axes>"
      ]
     },
     "metadata": {},
     "output_type": "display_data"
    }
   ],
   "source": [
    "#generate confution matrix\n",
    "df = pd.read_csv('fft_data.csv')\n",
    "\n",
    "confusion_matrix = pd.crosstab(df.actual, df.predict)\n",
    "fig = plt.figure(figsize=(15, 5))\n",
    "ax1 = plt.subplot(121)\n",
    "img = sn.heatmap(confusion_matrix, annot=True, cmap='Blues', fmt=\"d\")\n",
    "figure = img.get_figure()    \n"
   ]
  },
  {
   "cell_type": "code",
   "execution_count": 5,
   "id": "2aa3fb75",
   "metadata": {},
   "outputs": [
    {
     "name": "stdout",
     "output_type": "stream",
     "text": [
      "TPR: 0.8475141808475142\n",
      "TNR: 0.8290960451977402\n",
      "FPR: 0.1709039548022599\n",
      "FNR: 0.15248581915248582\n",
      "FDR: 0.32266666666666666\n",
      "FOR: 0.07223012486170381\n",
      "PPV: 0.6773333333333333\n",
      "NPV: 0.9277698751382962\n",
      "Prevalence: 0.2974099434355463\n",
      "Accuracy: 0.8345737818795277\n"
     ]
    }
   ],
   "source": [
    "FP = confusion_matrix.sum(axis=0) - np.diag(confusion_matrix)  \n",
    "FN = confusion_matrix.sum(axis=1) - np.diag(confusion_matrix)\n",
    "TP = np.diag(confusion_matrix)\n",
    "TN = confusion_matrix.values.sum() - (FP + FN + TP)\n",
    "\n",
    "# Sensitivity, hit rate, recall, or true positive rate\n",
    "TPR = TP/(TP+FN)\n",
    "# Specificity or true negative rate\n",
    "TNR = TN/(TN+FP) \n",
    "# Fall out or false positive rate\n",
    "FPR = FP/(FP+TN)\n",
    "# False negative rate\n",
    "FNR = FN/(TP+FN)\n",
    "# False discovery rate\n",
    "FDR = FP/(TP+FP)\n",
    "# False omission rate\n",
    "false_omission_rate = FN/(TN+FN)\n",
    "# Precision or positive predictive value\n",
    "PPV = TP/(TP+FP)\n",
    "# Negative predictive value\n",
    "NPV = TN/(TN+FN)\n",
    "# Prevalence\n",
    "P = (FN+TP)/(FP+FN+TP+TN)\n",
    "# Overall accuracy\n",
    "ACC = (TP+TN)/(TP+FP+FN+TN)\n",
    "\n",
    "print('TPR: {}'.format(str(TPR[0])))\n",
    "print('TNR: {}'.format(str(TNR[0])))\n",
    "print('FPR: {}'.format(str(FPR[0])))\n",
    "print('FNR: {}'.format(str(FNR[0])))\n",
    "print('FDR: {}'.format(str(FDR[0])))\n",
    "print('FOR: {}'.format(str(false_omission_rate[0])))\n",
    "print('PPV: {}'.format(str(PPV[0])))\n",
    "print('NPV: {}'.format(str(NPV[0])))\n",
    "print('Prevalence: {}'.format(str(P[0])))\n",
    "print('Accuracy: {}'.format(str(ACC[0])))"
   ]
  },
  {
   "cell_type": "code",
   "execution_count": null,
   "id": "6c394a9e",
   "metadata": {},
   "outputs": [],
   "source": []
  }
 ],
 "metadata": {
  "kernelspec": {
   "display_name": "Python 3 (ipykernel)",
   "language": "python",
   "name": "python3"
  },
  "language_info": {
   "codemirror_mode": {
    "name": "ipython",
    "version": 3
   },
   "file_extension": ".py",
   "mimetype": "text/x-python",
   "name": "python",
   "nbconvert_exporter": "python",
   "pygments_lexer": "ipython3",
   "version": "3.9.13"
  }
 },
 "nbformat": 4,
 "nbformat_minor": 5
}
