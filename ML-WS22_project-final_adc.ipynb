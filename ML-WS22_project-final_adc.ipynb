{
 "cells": [
  {
   "cell_type": "markdown",
   "id": "imported-rover",
   "metadata": {},
   "source": [
    "# ML-WS22 Standalone Project with ADC data\n"
   ]
  },
  {
   "cell_type": "markdown",
   "id": "3b6a891a",
   "metadata": {},
   "source": [
    "# Import libraries\n"
   ]
  },
  {
   "cell_type": "code",
   "execution_count": 1,
   "id": "8f37ef58",
   "metadata": {
    "scrolled": true
   },
   "outputs": [
    {
     "data": {
      "text/plain": [
       "'F:\\\\ML_FIUS_Sonar_Sensor_Project'"
      ]
     },
     "execution_count": 1,
     "metadata": {},
     "output_type": "execute_result"
    }
   ],
   "source": [
    "import os\n",
    "import pathlib\n",
    "import pandas as pd\n",
    "import glob\n",
    "from collections import Counter\n",
    "import matplotlib.pyplot as plt\n",
    "import seaborn as sn\n",
    "import numpy as np\n",
    "from scipy import signal\n",
    "from PIL import Image\n",
    "import math\n",
    "from sklearn.svm import SVC\n",
    "from sklearn import metrics\n",
    "from sklearn.metrics import multilabel_confusion_matrix\n",
    "from sklearn.model_selection import train_test_split\n",
    "from sklearn.preprocessing import StandardScaler\n",
    "from sklearn.neighbors import KNeighborsClassifier\n",
    "from sklearn.ensemble import RandomForestClassifier\n",
    "\n",
    "os.path.abspath(os.getcwd())"
   ]
  },
  {
   "cell_type": "code",
   "execution_count": 5,
   "id": "67ecab6f",
   "metadata": {},
   "outputs": [],
   "source": [
    "human_path = \"F:\\\\ML_FIUS_Sonar_Sensor_Project\\\\Data_adc\\\\Human\\\\\"\n",
    "emptyseat_path = \"F:\\\\ML_FIUS_Sonar_Sensor_Project\\\\Data_adc\\\\Emptyseat\\\\\"\n",
    "output_path = \"F:\\\\ML_FIUS_Sonar_Sensor_Project\\\\Data_adc\\\\Output_file\\\\\"\n",
    "empty_dfs = []\n",
    "\n",
    "human_dfs = []"
   ]
  },
  {
   "cell_type": "markdown",
   "id": "124e76cc",
   "metadata": {},
   "source": [
    "# Data cleaning and merging\n"
   ]
  },
  {
   "cell_type": "code",
   "execution_count": 3,
   "id": "146f672b",
   "metadata": {},
   "outputs": [],
   "source": [
    "h_dfs = []\n",
    "for file in os.listdir(human_path):\n",
    "    if file.endswith('.txt'):\n",
    "        # Take all human text file into dataframe dropping header row.  \n",
    "        h_df = pd.read_csv(os.path.join(human_path, file), delimiter='\\t', header=None)\n",
    "         # Save excel file in the output directory tag human in the beginning\n",
    "        output_file = os.path.join(output_path, 'human_' + os.path.splitext(file)[0] + '.xlsx')\n",
    "        # cannot adc huge amount data take first 150 colum.\n",
    "        h_df = h_df.iloc[:, :150]\n",
    "        #Drop unnecessary columns\n",
    "        h_df = h_df.drop(h_df.columns[0:14], axis=1)\n",
    "        #drop the column value with '0'\n",
    "        h_df = h_df.loc[:, (h_df != 0).any(axis=0)]\n",
    "        # Label human data with value 1\n",
    "        h_df.insert(0, 'new_column', 1)\n",
    "        h_df.to_excel(output_file, header=False, index=False)\n",
    "        h_dfs.append(h_df)\n",
    "\n",
    "\n",
    "for filename in os.listdir(output_path):\n",
    "    if filename.startswith('human_') and filename.endswith('.xlsx'):\n",
    "        human_df = pd.read_excel(os.path.join(output_path, filename), header=None)\n",
    "#        print(filename)\n",
    "        human_dfs.append(human_df)\n",
    "        \n",
    "human_merged = pd.concat(human_dfs, ignore_index=True)\n",
    "# Import libraries\n",
    "\n",
    "human_merged.to_excel(os.path.join(output_path, 'adc_human_merged.xlsx'), header=False, index=False)\n",
    "        \n"
   ]
  },
  {
   "cell_type": "code",
   "execution_count": 6,
   "id": "609d9899",
   "metadata": {},
   "outputs": [],
   "source": [
    "e_dfs = []\n",
    "for file in os.listdir(emptyseat_path):\n",
    "    if file.endswith('.txt'):\n",
    "        # Take all human text file into dataframe dropping header row.  \n",
    "        e_df = pd.read_csv(os.path.join(emptyseat_path, file), delimiter='\\t', header=None)\n",
    "         # Save excel file in the output directory tag human in the beginning\n",
    "        output_file = os.path.join(output_path, 'emptyseat_' + os.path.splitext(file)[0] + '.xlsx')\n",
    "        # cannot adc huge amount data take first 150 colum.\n",
    "        e_df = e_df.iloc[:, :150] \n",
    "        #Drop unnecessary columns\n",
    "        e_df = e_df.drop(e_df.columns[0:14], axis=1)\n",
    "        #drop the column value with '0'\n",
    "        e_df = e_df.loc[:, (e_df != 0).any(axis=0)]\n",
    "        # Label human data with value 0\n",
    "        e_df.insert(0, 'new_column', 0)\n",
    "        e_df.to_excel(output_file, header=False, index=False)\n",
    "        e_dfs.append(e_df)\n",
    "\n",
    "\n",
    "\n",
    "for filename in os.listdir(output_path):\n",
    "    if filename.startswith('emptyseat_') and filename.endswith('.xlsx'):\n",
    "        empty_df = pd.read_excel(os.path.join(output_path, filename), header=None)\n",
    "        empty_dfs.append(empty_df)\n",
    "        \n",
    "empty_merged = pd.concat(empty_dfs, ignore_index=True)\n",
    "#marge all data in one file\n",
    "empty_merged.to_excel(os.path.join(output_path, 'adc_emptyseat_merged.xlsx'), header=False, index=False)"
   ]
  },
  {
   "cell_type": "code",
   "execution_count": 7,
   "id": "e6c880cb",
   "metadata": {},
   "outputs": [],
   "source": [
    "#merge all human and empty seat data into one file\n",
    "merged = pd.concat([human_merged, empty_merged], ignore_index=True)\n",
    "merged.to_excel(os.path.join(output_path, 'adc_merged.xlsx'), header=False, index=False)"
   ]
  },
  {
   "cell_type": "code",
   "execution_count": 8,
   "id": "542e0377",
   "metadata": {},
   "outputs": [
    {
     "data": {
      "text/plain": [
       "Counter({1: 26399, 0: 7281})"
      ]
     },
     "execution_count": 8,
     "metadata": {},
     "output_type": "execute_result"
    }
   ],
   "source": [
    "#Count labeled data\n",
    "os.chdir(output_path)\n",
    "data = pd.read_excel(\"adc_merged.xlsx\")\n",
    "Counter(data.iloc[:,0])"
   ]
  },
  {
   "cell_type": "code",
   "execution_count": 9,
   "id": "03d7bc48",
   "metadata": {},
   "outputs": [
    {
     "data": {
      "text/plain": [
       "1    1\n",
       "2    1\n",
       "3    1\n",
       "4    1\n",
       "5    1\n",
       "Name: 1, dtype: int64"
      ]
     },
     "execution_count": 9,
     "metadata": {},
     "output_type": "execute_result"
    }
   ],
   "source": [
    "X = data.iloc[1:,1:]\n",
    "Y = data.iloc[1:,0]\n",
    "X.head()\n",
    "Y.head()"
   ]
  },
  {
   "cell_type": "markdown",
   "id": "b0d4c734",
   "metadata": {},
   "source": [
    "## Split Data for training and Testing"
   ]
  },
  {
   "cell_type": "code",
   "execution_count": 10,
   "id": "e1c1a06f",
   "metadata": {},
   "outputs": [
    {
     "name": "stdout",
     "output_type": "stream",
     "text": [
      "(33679, 134)\n"
     ]
    },
    {
     "name": "stderr",
     "output_type": "stream",
     "text": [
      "C:\\Users\\Mahbub\\anaconda3\\lib\\site-packages\\sklearn\\utils\\validation.py:1688: FutureWarning: Feature names only support names that are all strings. Got feature names with dtypes: ['int', 'str']. An error will be raised in 1.2.\n",
      "  warnings.warn(\n",
      "C:\\Users\\Mahbub\\anaconda3\\lib\\site-packages\\sklearn\\utils\\validation.py:1688: FutureWarning: Feature names only support names that are all strings. Got feature names with dtypes: ['int', 'str']. An error will be raised in 1.2.\n",
      "  warnings.warn(\n",
      "C:\\Users\\Mahbub\\anaconda3\\lib\\site-packages\\sklearn\\utils\\validation.py:1688: FutureWarning: Feature names only support names that are all strings. Got feature names with dtypes: ['int', 'str']. An error will be raised in 1.2.\n",
      "  warnings.warn(\n"
     ]
    },
    {
     "data": {
      "text/html": [
       "<div>\n",
       "<style scoped>\n",
       "    .dataframe tbody tr th:only-of-type {\n",
       "        vertical-align: middle;\n",
       "    }\n",
       "\n",
       "    .dataframe tbody tr th {\n",
       "        vertical-align: top;\n",
       "    }\n",
       "\n",
       "    .dataframe thead th {\n",
       "        text-align: right;\n",
       "    }\n",
       "</style>\n",
       "<table border=\"1\" class=\"dataframe\">\n",
       "  <thead>\n",
       "    <tr style=\"text-align: right;\">\n",
       "      <th></th>\n",
       "      <th>0</th>\n",
       "      <th>1</th>\n",
       "      <th>2</th>\n",
       "      <th>3</th>\n",
       "      <th>4</th>\n",
       "      <th>5</th>\n",
       "      <th>6</th>\n",
       "      <th>7</th>\n",
       "      <th>8</th>\n",
       "      <th>9</th>\n",
       "      <th>...</th>\n",
       "      <th>124</th>\n",
       "      <th>125</th>\n",
       "      <th>126</th>\n",
       "      <th>127</th>\n",
       "      <th>128</th>\n",
       "      <th>129</th>\n",
       "      <th>130</th>\n",
       "      <th>131</th>\n",
       "      <th>132</th>\n",
       "      <th>133</th>\n",
       "    </tr>\n",
       "  </thead>\n",
       "  <tbody>\n",
       "    <tr>\n",
       "      <th>0</th>\n",
       "      <td>-0.731893</td>\n",
       "      <td>-0.927538</td>\n",
       "      <td>-0.515805</td>\n",
       "      <td>-0.240831</td>\n",
       "      <td>0.180942</td>\n",
       "      <td>0.367730</td>\n",
       "      <td>0.529400</td>\n",
       "      <td>0.669373</td>\n",
       "      <td>0.766192</td>\n",
       "      <td>0.797348</td>\n",
       "      <td>...</td>\n",
       "      <td>1.367430</td>\n",
       "      <td>1.399910</td>\n",
       "      <td>1.404890</td>\n",
       "      <td>1.371469</td>\n",
       "      <td>1.319771</td>\n",
       "      <td>1.226741</td>\n",
       "      <td>1.105668</td>\n",
       "      <td>0.952256</td>\n",
       "      <td>0.771594</td>\n",
       "      <td>0.573033</td>\n",
       "    </tr>\n",
       "    <tr>\n",
       "      <th>1</th>\n",
       "      <td>0.570949</td>\n",
       "      <td>0.552154</td>\n",
       "      <td>0.305887</td>\n",
       "      <td>0.375407</td>\n",
       "      <td>0.033409</td>\n",
       "      <td>-0.253528</td>\n",
       "      <td>-0.546699</td>\n",
       "      <td>-0.844415</td>\n",
       "      <td>-1.104009</td>\n",
       "      <td>-1.343676</td>\n",
       "      <td>...</td>\n",
       "      <td>-0.635823</td>\n",
       "      <td>-0.813147</td>\n",
       "      <td>-0.975470</td>\n",
       "      <td>-1.116248</td>\n",
       "      <td>-1.234628</td>\n",
       "      <td>-1.337641</td>\n",
       "      <td>-1.398745</td>\n",
       "      <td>-1.422232</td>\n",
       "      <td>-1.411752</td>\n",
       "      <td>-1.354488</td>\n",
       "    </tr>\n",
       "    <tr>\n",
       "      <th>2</th>\n",
       "      <td>0.089076</td>\n",
       "      <td>0.142119</td>\n",
       "      <td>0.086132</td>\n",
       "      <td>0.015211</td>\n",
       "      <td>-2.068933</td>\n",
       "      <td>-1.957081</td>\n",
       "      <td>-1.805964</td>\n",
       "      <td>-1.612852</td>\n",
       "      <td>-1.353590</td>\n",
       "      <td>-1.058876</td>\n",
       "      <td>...</td>\n",
       "      <td>0.028134</td>\n",
       "      <td>0.189495</td>\n",
       "      <td>0.341202</td>\n",
       "      <td>0.480519</td>\n",
       "      <td>0.599100</td>\n",
       "      <td>0.701718</td>\n",
       "      <td>0.799046</td>\n",
       "      <td>0.888242</td>\n",
       "      <td>0.955902</td>\n",
       "      <td>0.991791</td>\n",
       "    </tr>\n",
       "    <tr>\n",
       "      <th>3</th>\n",
       "      <td>0.535255</td>\n",
       "      <td>1.229603</td>\n",
       "      <td>-4.194309</td>\n",
       "      <td>-1.690293</td>\n",
       "      <td>-1.126735</td>\n",
       "      <td>-0.891134</td>\n",
       "      <td>-0.667719</td>\n",
       "      <td>-0.448654</td>\n",
       "      <td>-0.232136</td>\n",
       "      <td>-0.010143</td>\n",
       "      <td>...</td>\n",
       "      <td>0.887484</td>\n",
       "      <td>1.022490</td>\n",
       "      <td>1.128906</td>\n",
       "      <td>1.213335</td>\n",
       "      <td>1.282863</td>\n",
       "      <td>1.310979</td>\n",
       "      <td>1.303489</td>\n",
       "      <td>1.262319</td>\n",
       "      <td>1.182743</td>\n",
       "      <td>1.084164</td>\n",
       "    </tr>\n",
       "    <tr>\n",
       "      <th>4</th>\n",
       "      <td>-0.107243</td>\n",
       "      <td>-0.196606</td>\n",
       "      <td>-0.066741</td>\n",
       "      <td>-2.519177</td>\n",
       "      <td>-1.944871</td>\n",
       "      <td>-1.816481</td>\n",
       "      <td>-1.665319</td>\n",
       "      <td>-1.467740</td>\n",
       "      <td>-1.227136</td>\n",
       "      <td>-0.948307</td>\n",
       "      <td>...</td>\n",
       "      <td>-0.095172</td>\n",
       "      <td>0.054158</td>\n",
       "      <td>0.207043</td>\n",
       "      <td>0.349384</td>\n",
       "      <td>0.476722</td>\n",
       "      <td>0.584176</td>\n",
       "      <td>0.686288</td>\n",
       "      <td>0.792223</td>\n",
       "      <td>0.866786</td>\n",
       "      <td>0.917892</td>\n",
       "    </tr>\n",
       "  </tbody>\n",
       "</table>\n",
       "<p>5 rows × 134 columns</p>\n",
       "</div>"
      ],
      "text/plain": [
       "        0         1         2         3         4         5         6    \\\n",
       "0 -0.731893 -0.927538 -0.515805 -0.240831  0.180942  0.367730  0.529400   \n",
       "1  0.570949  0.552154  0.305887  0.375407  0.033409 -0.253528 -0.546699   \n",
       "2  0.089076  0.142119  0.086132  0.015211 -2.068933 -1.957081 -1.805964   \n",
       "3  0.535255  1.229603 -4.194309 -1.690293 -1.126735 -0.891134 -0.667719   \n",
       "4 -0.107243 -0.196606 -0.066741 -2.519177 -1.944871 -1.816481 -1.665319   \n",
       "\n",
       "        7         8         9    ...       124       125       126       127  \\\n",
       "0  0.669373  0.766192  0.797348  ...  1.367430  1.399910  1.404890  1.371469   \n",
       "1 -0.844415 -1.104009 -1.343676  ... -0.635823 -0.813147 -0.975470 -1.116248   \n",
       "2 -1.612852 -1.353590 -1.058876  ...  0.028134  0.189495  0.341202  0.480519   \n",
       "3 -0.448654 -0.232136 -0.010143  ...  0.887484  1.022490  1.128906  1.213335   \n",
       "4 -1.467740 -1.227136 -0.948307  ... -0.095172  0.054158  0.207043  0.349384   \n",
       "\n",
       "        128       129       130       131       132       133  \n",
       "0  1.319771  1.226741  1.105668  0.952256  0.771594  0.573033  \n",
       "1 -1.234628 -1.337641 -1.398745 -1.422232 -1.411752 -1.354488  \n",
       "2  0.599100  0.701718  0.799046  0.888242  0.955902  0.991791  \n",
       "3  1.282863  1.310979  1.303489  1.262319  1.182743  1.084164  \n",
       "4  0.476722  0.584176  0.686288  0.792223  0.866786  0.917892  \n",
       "\n",
       "[5 rows x 134 columns]"
      ]
     },
     "execution_count": 10,
     "metadata": {},
     "output_type": "execute_result"
    }
   ],
   "source": [
    "print(input_var.shape)\n",
    "X_train, X_test, y_train, y_test = train_test_split(input_var, Y, test_size=0.3,random_state=101)\n",
    "sc = StandardScaler()\n",
    "X_train = sc.fit_transform(X_train)\n",
    "X_test = sc.transform(X_test)\n",
    "X_train = pd.DataFrame(X_train)\n",
    "X_test = pd.DataFrame(X_test)\n",
    "X_train.head()"
   ]
  },
  {
   "cell_type": "markdown",
   "id": "unnecessary-testimony",
   "metadata": {},
   "source": [
    "# Train Random Forest classifier to identify human & empty_seat"
   ]
  },
  {
   "cell_type": "code",
   "execution_count": 11,
   "id": "17b40753",
   "metadata": {},
   "outputs": [
    {
     "name": "stdout",
     "output_type": "stream",
     "text": [
      "Accuracy: 0.8401623119556612\n"
     ]
    }
   ],
   "source": [
    "# Train Support vector machines (SVMs) model to identify human & empty_seatrfc = RandomForestClassifier(n_estimators=100, max_depth=5, min_samples_split=5, max_features='sqrt', random_state=0)\n",
    "rfc.fit(X_train, y_train)\n",
    "y_pred = rfc.predict(X_test)\n",
    "print(\"Accuracy:\",metrics.accuracy_score(y_test, y_pred))"
   ]
  },
  {
   "cell_type": "code",
   "execution_count": 13,
   "id": "09e0955d",
   "metadata": {},
   "outputs": [
    {
     "name": "stdout",
     "output_type": "stream",
     "text": [
      "[[7881   66]\n",
      " [1549  608]]\n",
      "              precision    recall  f1-score   support\n",
      "\n",
      "           0       0.90      0.28      0.43      2157\n",
      "           1       0.84      0.99      0.91      7947\n",
      "\n",
      "    accuracy                           0.84     10104\n",
      "   macro avg       0.87      0.64      0.67     10104\n",
      "weighted avg       0.85      0.84      0.81     10104\n",
      "\n",
      "608 1549 66 7881\n"
     ]
    },
    {
     "data": {
      "text/plain": [
       "array([[7881,   66],\n",
       "       [1549,  608]], dtype=int64)"
      ]
     },
     "execution_count": 13,
     "metadata": {},
     "output_type": "execute_result"
    },
    {
     "data": {
      "image/png": "[encoded data removed]",
      "text/plain": [
       "<Figure size 1200x1000 with 2 Axes>"
      ]
     },
     "metadata": {},
     "output_type": "display_data"
    }
   ],
   "source": [
    "#Generate Confution matrix & calculate other values\n",
    "def confusion_matrix_binary_rfc(y_test, y_pred):\n",
    "    cnf_matrix = metrics.confusion_matrix(y_test, y_pred, labels=[1,0]) \n",
    "    print(cnf_matrix)\n",
    "    report = metrics.classification_report(y_test, y_pred)\n",
    "    print(report)\n",
    "    TN, FP, FN, TP = metrics.confusion_matrix(y_test, y_pred).ravel()\n",
    "    print(TN, FP, FN, TP)\n",
    "    df_cm = pd.DataFrame(cnf_matrix, columns=np.unique(y_test), index=np.unique(y_test))\n",
    "    df_cm.index.name = 'Actual'\n",
    "    df_cm.columns.name = 'Predicted'\n",
    "    plt.figure(figsize=(12,10))\n",
    "    sn.set(font_scale=1.4) #for label size\n",
    "    sn.heatmap(df_cm, cmap=\"Blues\", annot=True, annot_kws={\"size\": 16}, fmt='g') # font size\n",
    "    return cnf_matrix\n",
    "\n",
    "y_pred_rfc = rfc.predict(X_test)\n",
    "confusion_matrix_binary_rfc(y_test, y_pred)"
   ]
  },
  {
   "cell_type": "markdown",
   "id": "0323c5f1",
   "metadata": {},
   "source": [
    "# Train Support vector machines (SVMs) model "
   ]
  },
  {
   "cell_type": "code",
   "execution_count": 14,
   "id": "dfd7352c",
   "metadata": {},
   "outputs": [
    {
     "name": "stdout",
     "output_type": "stream",
     "text": [
      "Accuracy: 0.8358076009501187\n"
     ]
    }
   ],
   "source": [
    "# Train Support vector machines (SVMs) model to identify human & empty_seatsvm = SVC(C=0.1, kernel='rbf', gamma='scale', random_state=101)\n",
    "svm.fit(X_train, y_train)\n",
    "y_pred = svm.predict(X_test)\n",
    "print(\"Accuracy:\", metrics.accuracy_score(y_test, y_pred))"
   ]
  },
  {
   "cell_type": "code",
   "execution_count": 15,
   "id": "da3f5a6e",
   "metadata": {},
   "outputs": [
    {
     "name": "stdout",
     "output_type": "stream",
     "text": [
      "[[7885   62]\n",
      " [1597  560]]\n",
      "              precision    recall  f1-score   support\n",
      "\n",
      "           0       0.90      0.26      0.40      2157\n",
      "           1       0.83      0.99      0.90      7947\n",
      "\n",
      "    accuracy                           0.84     10104\n",
      "   macro avg       0.87      0.63      0.65     10104\n",
      "weighted avg       0.85      0.84      0.80     10104\n",
      "\n",
      "560 1597 62 7885\n"
     ]
    },
    {
     "data": {
      "text/plain": [
       "array([[7885,   62],\n",
       "       [1597,  560]], dtype=int64)"
      ]
     },
     "execution_count": 15,
     "metadata": {},
     "output_type": "execute_result"
    },
    {
     "data": {
      "image/png": "[encoded data removed]",
      "text/plain": [
       "<Figure size 1200x1000 with 2 Axes>"
      ]
     },
     "metadata": {},
     "output_type": "display_data"
    }
   ],
   "source": [
    "#Generate Confution matrix & calculate other values\n",
    "def confusion_matrix_binary_svm(y_test, y_pred):\n",
    "    cnf_matrix = metrics.confusion_matrix(y_test, y_pred, labels=[1,0]) \n",
    "    print(cnf_matrix)\n",
    "    report = metrics.classification_report(y_test, y_pred)\n",
    "    print(report)\n",
    "    TN, FP, FN, TP = metrics.confusion_matrix(y_test, y_pred).ravel()\n",
    "    print(TN, FP, FN, TP)\n",
    "    df_cm = pd.DataFrame(cnf_matrix, columns=np.unique(y_test), index=np.unique(y_test))\n",
    "    df_cm.index.name = 'Actual'\n",
    "    df_cm.columns.name = 'Predicted'\n",
    "    plt.figure(figsize=(12,10))\n",
    "    sn.set(font_scale=1.4) #for label size\n",
    "    sn.heatmap(df_cm, cmap=\"Blues\", annot=True, annot_kws={\"size\": 16}, fmt='g') # font size\n",
    "    return cnf_matrix\n",
    "\n",
    "y_pred_svm = svm.predict(X_test)\n",
    "confusion_matrix_binary_svm(y_test, y_pred_svm)"
   ]
  },
  {
   "cell_type": "markdown",
   "id": "0d6b5bfe",
   "metadata": {},
   "source": [
    "# Train K-Nearest Neighbors classifier"
   ]
  },
  {
   "cell_type": "code",
   "execution_count": 17,
   "id": "5e93fe6a",
   "metadata": {},
   "outputs": [
    {
     "name": "stderr",
     "output_type": "stream",
     "text": [
      "C:\\Users\\Mahbub\\anaconda3\\lib\\site-packages\\sklearn\\neighbors\\_classification.py:228: FutureWarning: Unlike other reduction functions (e.g. `skew`, `kurtosis`), the default behavior of `mode` typically preserves the axis it acts along. In SciPy 1.11.0, this behavior will change: the default value of `keepdims` will become False, the `axis` over which the statistic is taken will be eliminated, and the value None will no longer be accepted. Set `keepdims` to True or False to avoid this warning.\n",
      "  mode, _ = stats.mode(_y[neigh_ind, k], axis=1)\n"
     ]
    },
    {
     "name": "stdout",
     "output_type": "stream",
     "text": [
      "Accuracy: 0.8639152810768013\n"
     ]
    }
   ],
   "source": [
    "# Train K-Nearest Neighbors classifierknn = KNeighborsClassifier(n_neighbors=4)\n",
    "knn.fit(X_train,y_train)\n",
    "y_pred = knn.predict(X_test)\n",
    "print(\"Accuracy:\",metrics.accuracy_score(y_test, y_pred))"
   ]
  },
  {
   "cell_type": "code",
   "execution_count": 18,
   "id": "a7d2b291",
   "metadata": {},
   "outputs": [
    {
     "name": "stderr",
     "output_type": "stream",
     "text": [
      "C:\\Users\\Mahbub\\anaconda3\\lib\\site-packages\\sklearn\\neighbors\\_classification.py:228: FutureWarning: Unlike other reduction functions (e.g. `skew`, `kurtosis`), the default behavior of `mode` typically preserves the axis it acts along. In SciPy 1.11.0, this behavior will change: the default value of `keepdims` will become False, the `axis` over which the statistic is taken will be eliminated, and the value None will no longer be accepted. Set `keepdims` to True or False to avoid this warning.\n",
      "  mode, _ = stats.mode(_y[neigh_ind, k], axis=1)\n"
     ]
    },
    {
     "name": "stdout",
     "output_type": "stream",
     "text": [
      "[[6988  959]\n",
      " [ 416 1741]]\n",
      "              precision    recall  f1-score   support\n",
      "\n",
      "           0       0.64      0.81      0.72      2157\n",
      "           1       0.94      0.88      0.91      7947\n",
      "\n",
      "    accuracy                           0.86     10104\n",
      "   macro avg       0.79      0.84      0.81     10104\n",
      "weighted avg       0.88      0.86      0.87     10104\n",
      "\n",
      "1741 416 959 6988\n"
     ]
    },
    {
     "data": {
      "text/plain": [
       "array([[6988,  959],\n",
       "       [ 416, 1741]], dtype=int64)"
      ]
     },
     "execution_count": 18,
     "metadata": {},
     "output_type": "execute_result"
    },
    {
     "data": {
      "image/png": "[encoded data removed]",
      "text/plain": [
       "<Figure size 1200x1000 with 2 Axes>"
      ]
     },
     "metadata": {},
     "output_type": "display_data"
    }
   ],
   "source": [
    "#Generate Confution matrix & calculate other values\n",
    "def confusion_matrix_binary_knn(y_test, y_pred):\n",
    "    cnf_matrix = metrics.confusion_matrix(y_test, y_pred, labels=[1,0]) \n",
    "    print(cnf_matrix)\n",
    "    report = metrics.classification_report(y_test, y_pred)\n",
    "    print(report)\n",
    "    TN, FP, FN, TP = metrics.confusion_matrix(y_test, y_pred).ravel()\n",
    "    print(TN, FP, FN, TP)\n",
    "    df_cm = pd.DataFrame(cnf_matrix, columns=np.unique(y_test), index=np.unique(y_test))\n",
    "    df_cm.index.name = 'Actual'\n",
    "    df_cm.columns.name = 'Predicted'\n",
    "    plt.figure(figsize=(12,10))\n",
    "    sn.set(font_scale=1.4) #for label size\n",
    "    sn.heatmap(df_cm, cmap=\"Blues\", annot=True, annot_kws={\"size\": 16}, fmt='g') # font size\n",
    "    return cnf_matrix\n",
    "\n",
    "y_pred_knn = knn.predict(X_test)\n",
    "confusion_matrix_binary_knn(y_test, y_pred)"
   ]
  },
  {
   "cell_type": "code",
   "execution_count": null,
   "id": "2c9d3f11",
   "metadata": {},
   "outputs": [],
   "source": []
  }
 ],
 "metadata": {
  "kernelspec": {
   "display_name": "Python 3 (ipykernel)",
   "language": "python",
   "name": "python3"
  },
  "language_info": {
   "codemirror_mode": {
    "name": "ipython",
    "version": 3
   },
   "file_extension": ".py",
   "mimetype": "text/x-python",
   "name": "python",
   "nbconvert_exporter": "python",
   "pygments_lexer": "ipython3",
   "version": "3.9.13"
  }
 },
 "nbformat": 4,
 "nbformat_minor": 5
}
